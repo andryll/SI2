{
  "nbformat": 4,
  "nbformat_minor": 0,
  "metadata": {
    "colab": {
      "provenance": [],
      "authorship_tag": "ABX9TyP10H9d35/gaQh7w1u2W8v4",
      "include_colab_link": true
    },
    "kernelspec": {
      "name": "python3",
      "display_name": "Python 3"
    },
    "language_info": {
      "name": "python"
    }
  },
  "cells": [
    {
      "cell_type": "markdown",
      "metadata": {
        "id": "view-in-github",
        "colab_type": "text"
      },
      "source": [
        "<a href=\"https://colab.research.google.com/github/andryll/SI2/blob/main/codes/algorithms/Perceptron.ipynb\" target=\"_parent\"><img src=\"https://colab.research.google.com/assets/colab-badge.svg\" alt=\"Open In Colab\"/></a>"
      ]
    },
    {
      "cell_type": "code",
      "source": [
        "import numpy as np\n",
        "import random"
      ],
      "metadata": {
        "id": "LIekwAEn5B63"
      },
      "execution_count": 15,
      "outputs": []
    },
    {
      "cell_type": "code",
      "execution_count": 114,
      "metadata": {
        "id": "c7oimjx82_9B"
      },
      "outputs": [],
      "source": [
        "def perceptron(dataSet, learningRate = 0.1, maxIt = 100):\n",
        "\n",
        "# Inicialização\n",
        "# 1. Iniciar o vetor W com valores aleatórios pequenos. Sugestão: [-1, 1] ou [-0.5, 0.5]\n",
        "  n_weights = dataSet.shape[1]\n",
        "  weights = np.ones(n_weights)\n",
        "\n",
        "  obj = dataSet[:,[n_weights - 1]]\n",
        "  data = dataSet\n",
        "  data[:,n_weights -1] = -1\n",
        "\n",
        "  for i in range(len(weights)):\n",
        "    weights[i] = np.random.rand() - 0.5\n",
        "# 2. Iniciar o contador de número de épocas (épocas ← 0)\n",
        "  epochs = 0\n",
        "# 3. Iniciar variável de controle (erro ← TRUE)\n",
        "  error = True\n",
        "# 4. Repetir enquanto (error == TRUE & epoca < n.Iter)\n",
        "  while(error == True and epochs < maxIt):\n",
        "  # 5. Para todas as amostras de treinamento em X, fazer:\n",
        "    error = False\n",
        "    for i in range(data.shape[0]):\n",
        "      # 6. V = W’ * X //Calcular o sinal do neurônio (spike)\n",
        "      V = sum(data[i] * weights)\n",
        "      # 7. Y = phi(V) // Calcular o sinal de saída do neurônio (Y)\n",
        "      if V >= 0:\n",
        "        Y = 1\n",
        "      else:\n",
        "        Y = 0\n",
        "      # 8. Se Y (saída obtida) != Di (saída real): // erro na predição\n",
        "      # print(data[i])\n",
        "      # print(obj[i])\n",
        "      # print(Y)\n",
        "      # print(weights)\n",
        "      if Y != obj[i]:\n",
        "        # 9. W = W + η * (Di - Y) * X\n",
        "        weights = weights + learningRate * (obj[i] - Y) * data[i]\n",
        "        # 10. erro ← TRUE\n",
        "        error = True\n",
        "        # 11. epocas ← epocas + 1 // Incrementar o contador do numero de épocas\n",
        "        epochs += 1\n",
        "      # 12. Fim se.\n",
        "    # 13. Fim Para.\n",
        "  # 14. Fim Repita.\n",
        "# 15. Fim Pseudocódigo.\n",
        "  return weights, epochs\n",
        "\n",
        "\n"
      ]
    },
    {
      "cell_type": "code",
      "source": [
        "a = np.array([[2, 2, 1],[4, 4, 0]])\n",
        "lr = 0.1\n",
        "maxIt = 50\n",
        "\n",
        "weights, epochs = perceptron(a, lr, maxIt)"
      ],
      "metadata": {
        "id": "ug1r99Xs4nW3"
      },
      "execution_count": 115,
      "outputs": []
    },
    {
      "cell_type": "code",
      "source": [
        "data = a\n",
        "data[:,a.shape[1] -1] = -1\n",
        "\n",
        "sum(data[1] * weights)\n",
        "print(epochs)"
      ],
      "metadata": {
        "colab": {
          "base_uri": "https://localhost:8080/"
        },
        "id": "b2tGejej3X4x",
        "outputId": "73a38ab0-29df-4278-80ab-af18055b143c"
      },
      "execution_count": 111,
      "outputs": [
        {
          "output_type": "stream",
          "name": "stdout",
          "text": [
            "29\n"
          ]
        }
      ]
    }
  ]
}